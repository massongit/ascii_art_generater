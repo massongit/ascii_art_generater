{
 "cells": [
  {
   "cell_type": "markdown",
   "metadata": {},
   "source": [
    "# ascii_art_generator"
   ]
  },
  {
   "cell_type": "markdown",
   "metadata": {},
   "source": [
    "## importセクション"
   ]
  },
  {
   "cell_type": "code",
   "execution_count": null,
   "metadata": {},
   "outputs": [],
   "source": [
    "import os\n",
    "\n",
    "import IPython.display\n",
    "import emoji\n",
    "import numpy\n",
    "import zenhan\n",
    "from PIL import Image, ImageDraw, ImageFont, ImageOps, ImageFilter\n"
   ]
  },
  {
   "cell_type": "markdown",
   "metadata": {},
   "source": [
    "## パラメータセクション"
   ]
  },
  {
   "cell_type": "markdown",
   "metadata": {},
   "source": [
    "パラメータをセットしてください。"
   ]
  },
  {
   "cell_type": "code",
   "execution_count": 2,
   "metadata": {},
   "outputs": [],
   "source": [
    "# 画像のパス\n",
    "image_path = 'input.jpg'\n",
    "\n",
    "# アスキーアートに使用する文字一覧 (全角)\n",
    "# (デフォルトで月の絵文字が追加される)\n",
    "ascii_chars = set()\n",
    "\n",
    "# 文字用フォントのファイル名\n",
    "ascii_char_font_file_name = 'Symbola_hint'\n",
    "\n",
    "# アスキーアート用フォントの大きさ\n",
    "ascii_art_font_size = 20\n",
    "\n",
    "# アスキーアートの大きさを決めるために必要なパラメータ\n",
    "ascii_art_size_params = {\n",
    "    # TODO: 最大の大きさを元に大きさを調整する場合、以下に最大の大きさ (横 * 縦) を代入し、コメントアウトを解除\n",
    "    'max size': numpy.array([150, 150])\n",
    "    # TODO: 最大文字数を元に大きさを調整する場合、以下に最大文字数を代入し、コメントアウトを解除\n",
    "    # 'max str len': 140\n",
    "}\n"
   ]
  },
  {
   "cell_type": "markdown",
   "metadata": {},
   "source": [
    "## 処理セクション"
   ]
  },
  {
   "cell_type": "code",
   "execution_count": 5,
   "metadata": {},
   "outputs": [],
   "source": [
    "# 月の絵文字をアスキーアートに使用する文字として追加\n",
    "for c in (':new_moon:', ':waxing_crescent_moon:', ':first_quarter_moon:', ':waxing_gibbous_moon:',\n",
    "          ':waning_crescent_moon:', ':last_quarter_moon:', ':waning_gibbous_moon:', ':full_moon:'):\n",
    "    ascii_chars.add(emoji.emojize(c))\n",
    "\n",
    "# アスキーアートに使用する文字を全角化\n",
    "ascii_chars = {zenhan.h2z(c) for c in ascii_chars}\n"
   ]
  },
  {
   "cell_type": "code",
   "execution_count": 6,
   "metadata": {},
   "outputs": [],
   "source": [
    "# 文字用フォント\n",
    "# ascii_fonts['ascii']: アスキーアート化の際に使用\n",
    "# ascii_fonts['image']: 出力の際に使用\n",
    "ascii_fonts = {'ascii': ImageFont.truetype(ascii_char_font_file_name),\n",
    "               'image': ImageFont.truetype(ascii_char_font_file_name, ascii_art_font_size)}\n",
    "\n",
    "# 文字一覧\n",
    "# ascii_images['ascii']: アスキーアート化の際に使用\n",
    "# ascii_images['image']: 出力の際に使用\n",
    "ascii_images = {'ascii': dict(), 'image': dict()}\n",
    "\n",
    "# 文字の大きさ\n",
    "# ascii_size['ascii']['size']: アスキーアート化の際に使用する画像の大きさ (横 * 縦)\n",
    "# ascii_size['ascii']['shape']: アスキーアート化の際に使用する行列の大きさ (縦 * 横)\n",
    "# ascii_size['image']['size']: 出力の際に使用する画像の大きさ (横 * 縦)\n",
    "# ascii_size['image']['shape']: 出力の際に使用する行列の大きさ (縦 * 横)\n",
    "ascii_size = {'ascii': dict(), 'image': dict()}\n",
    "\n",
    "# 文字をグレースケール化\n",
    "for kind in ascii_images.keys():\n",
    "    for ascii_char in ascii_chars:\n",
    "        ascii_char_image = Image.new('L', ascii_fonts[kind].getsize(ascii_char))\n",
    "        ImageDraw.Draw(ascii_char_image).text((0, 0), ascii_char, 'white', ascii_fonts[kind])\n",
    "        ascii_images[kind][ascii_char] = ImageOps.invert(ascii_char_image.crop(ascii_char_image.getbbox()))\n",
    "\n",
    "    ascii_size_ = numpy.array([mi.size for mi in ascii_images[kind].values()]).min()\n",
    "    ascii_size[kind]['size'] = numpy.array([ascii_size_ for _ in range(2)])\n",
    "    ascii_size[kind]['shape'] = ascii_size[kind]['size'][::-1]\n",
    "\n",
    "    for ascii_char in ascii_images[kind].keys():\n",
    "        # 文字の大きさを揃える\n",
    "        ascii_images[kind][ascii_char] = ascii_images[kind][ascii_char].resize(ascii_size[kind]['size'],\n",
    "                                                                               Image.ANTIALIAS)\n",
    "\n",
    "        # 文字を行列化\n",
    "        if kind == 'ascii':\n",
    "            ascii_images[kind][ascii_char] = numpy.array(ascii_images[kind][ascii_char])\n"
   ]
  },
  {
   "cell_type": "code",
   "execution_count": 6,
   "metadata": {},
   "outputs": [],
   "source": [
    "# アスキーアートの大きさ (横 * 縦)\n",
    "ascii_art_size = numpy.array(image['base'].size) / ascii_size['ascii']['size']\n",
    "if 'max size' in ascii_art_size_params:\n",
    "    argmax_image_size_ = numpy.argmax(image['base'].size)\n",
    "    max_ascii_art_size_ = ascii_art_size_params['max size'][argmax_image_size_]\n",
    "    image_size_ = numpy.max(image['base'].size)\n",
    "    if max_ascii_art_size_ * ascii_size['ascii']['size'][argmax_image_size_] < image_size_:\n",
    "        ascii_art_size = max_ascii_art_size_ * numpy.array(image['base'].size) / image_size_\n",
    "elif 'max str len' in ascii_art_size_params:\n",
    "    if ascii_art_size_params['max str len'] * ascii_size['ascii']['size'].prod() < numpy.prod(image['image'].size):\n",
    "        ascii_art_size = numpy.sqrt(ascii_art_size_params['max str len'] * numpy.array(image['image'].size)\n",
    "                                    / numpy.array(image['image'].size[::-1]))\n",
    "\n",
    "# アスキーアートの大きさの小数点以下切り捨て\n",
    "ascii_art_size = ascii_art_size.astype(numpy.int64)\n"
   ]
  },
  {
   "cell_type": "code",
   "execution_count": 34,
   "metadata": {},
   "outputs": [],
   "source": [
    "# 画像\n",
    "# image['base']: ベースとなる画像\n",
    "# image['image']: アスキーアート化する画像 (ベースとなる画像を加工)\n",
    "# image['ascii']: 行列化した画像\n",
    "image = {'base': Image.open(image_path)}\n",
    "\n",
    "# 画像の余白を切り抜き\n",
    "image['image'] = image['base'].crop(numpy.array(image['base'].getbbox()))\n",
    "\n",
    "# 画像の透過部を白で塗色\n",
    "if image['image'].mode == 'RGBA' or 'transparency' in image['image'].info:\n",
    "    image['image'] = Image.alpha_composite(Image.new(image['image'].mode, image['image'].size, 'white'),\n",
    "                                           image['image'])\n",
    "\n",
    "# 画像の輪郭を強調\n",
    "image['image'] = image['image'].filter(ImageFilter.UnsharpMask(10, 200, 5))\n",
    "\n",
    "# 画像をグレースケール化\n",
    "image['image'] = image['image'].convert('L')\n",
    "\n",
    "# 画像をリサイズ\n",
    "image['image'] = image['image'].resize(ascii_art_size * ascii_size['ascii']['size'], Image.ANTIALIAS)\n",
    "\n",
    "# 画像を行列化\n",
    "image['ascii'] = numpy.array(image['image'])\n"
   ]
  },
  {
   "cell_type": "code",
   "execution_count": 7,
   "metadata": {},
   "outputs": [],
   "source": [
    "# アスキーアート\n",
    "# ascii_art['ascii']: 文字で表されるアスキーアート\n",
    "# ascii_art['image']['image']: 画像で表されるアスキーアートのImageオブジェクト\n",
    "# ascii_art['image']['draw']: 画像で表されるアスキーアートのImageDrawオブジェクト\n",
    "ascii_art = {'ascii': list(), 'image': dict()}\n",
    "ascii_art['image']['image'] = Image.new('L', tuple(ascii_art_size * ascii_size['image']['size']), 'white')\n",
    "ascii_art['image']['draw'] = ImageDraw.Draw(ascii_art['image']['image'])\n",
    "\n",
    "# 画像をアスキーアート化\n",
    "for i in range(image['ascii'].shape[0] // ascii_size['ascii']['shape'][0]):\n",
    "    ascii_art['ascii'].append('')\n",
    "    for j in range(image['ascii'].shape[1] // ascii_size['ascii']['shape'][1]):\n",
    "        # 画像の一部\n",
    "        part_image = image['ascii'][ascii_size['ascii']['shape'][0] * i\n",
    "                                    :ascii_size['ascii']['shape'][0] * (i + 1),\n",
    "                     ascii_size['ascii']['shape'][1] * j\n",
    "                     :ascii_size['ascii']['shape'][1] * (j + 1)]\n",
    "\n",
    "        # 最大類似度\n",
    "        max_similarity = None\n",
    "\n",
    "        # 画像の一部ともっとも類似している文字\n",
    "        max_ascii_char = None\n",
    "\n",
    "        # 画像の一部ともっとも類似する文字を導出\n",
    "        for ascii_char, ascii_char_image in ascii_images['ascii'].items():\n",
    "            # 類似度\n",
    "            similarity = numpy.sum(part_image * ascii_char_image)\n",
    "\n",
    "            if max_similarity is None or max_similarity < similarity:\n",
    "                max_similarity = similarity\n",
    "                max_ascii_char = ascii_char\n",
    "\n",
    "        # 画像の一部ともっとも類似している文字をアスキーアートに追加\n",
    "        ascii_art['ascii'][-1] += max_ascii_char\n",
    "        ascii_art['image']['draw'].bitmap((ascii_size['image']['size'][0] * j,\n",
    "                                           ascii_size['image']['size'][1] * i),\n",
    "                                          ascii_images['image'][max_ascii_char])\n"
   ]
  },
  {
   "cell_type": "markdown",
   "metadata": {},
   "source": [
    "## 表示セクション"
   ]
  },
  {
   "cell_type": "markdown",
   "metadata": {},
   "source": [
    "### 入力"
   ]
  },
  {
   "cell_type": "markdown",
   "metadata": {},
   "source": [
    "#### アスキーアートに使用する文字"
   ]
  },
  {
   "cell_type": "code",
   "execution_count": 8,
   "metadata": {},
   "outputs": [
    {
     "data": {
      "text/html": [
       "<b>【8種類】</b>"
      ],
      "text/plain": [
       "<b>【8種類】</b>"
      ]
     },
     "execution_count": 0,
     "metadata": {},
     "output_type": "execute_result"
    },
    {
     "name": "stdout",
     "output_type": "stream",
     "text": [
      "🌑  🌖  🌕  🌒  🌓  🌗  🌔  🌘\n"
     ]
    }
   ],
   "source": [
    "IPython.display.display(IPython.display.HTML('<b>【{}種類】</b>'.format(len(ascii_chars))))\n",
    "print('  '.join(ascii_chars))\n"
   ]
  },
  {
   "cell_type": "markdown",
   "metadata": {},
   "source": [
    "#### 入力画像"
   ]
  },
  {
   "cell_type": "code",
   "execution_count": 9,
   "metadata": {},
   "outputs": [],
   "source": [
    "IPython.display.display(IPython.display.HTML('<b>【{} * {}】</b>'.format(*image['base'].size)))\n",
    "image['base']\n"
   ]
  },
  {
   "cell_type": "markdown",
   "metadata": {},
   "source": [
    "### 中間表現"
   ]
  },
  {
   "cell_type": "markdown",
   "metadata": {},
   "source": [
    "#### アスキーアート化する画像"
   ]
  },
  {
   "cell_type": "code",
   "execution_count": 10,
   "metadata": {},
   "outputs": [],
   "source": [
    "IPython.display.display(IPython.display.HTML('<b>【{} * {}】</b>'.format(*image['image'].size)))\n",
    "image['image']"
   ]
  },
  {
   "cell_type": "markdown",
   "metadata": {},
   "source": [
    "### 出力"
   ]
  },
  {
   "cell_type": "markdown",
   "metadata": {},
   "source": [
    "#### アスキーアート (文字)"
   ]
  },
  {
   "cell_type": "code",
   "execution_count": 11,
   "metadata": {},
   "outputs": [],
   "source": [
    "IPython.display.display(IPython.display.HTML('<b>【{} * {}】</b>'.format(*ascii_art_size)))\n",
    "print(os.linesep.join(ascii_art['ascii']))\n"
   ]
  },
  {
   "cell_type": "markdown",
   "metadata": {},
   "source": [
    "#### アスキーアート (画像)"
   ]
  },
  {
   "cell_type": "code",
   "execution_count": 12,
   "metadata": {},
   "outputs": [],
   "source": [
    "IPython.display.display(IPython.display.HTML('<b>【{} * {}】</b>'.format(*ascii_art['image']['image'].size)))\n",
    "ImageOps.invert(ascii_art['image']['image'].crop(ascii_art['image']['image'].getbbox()))\n"
   ]
  },
  {
   "cell_type": "code",
   "execution_count": null,
   "metadata": {},
   "outputs": [],
   "source": []
  }
 ],
 "metadata": {
  "kernelspec": {
   "display_name": "Python 3",
   "language": "python",
   "name": "python3"
  },
  "language_info": {
   "codemirror_mode": {
    "name": "ipython",
    "version": 3
   },
   "file_extension": ".py",
   "mimetype": "text/x-python",
   "name": "python",
   "nbconvert_exporter": "python",
   "pygments_lexer": "ipython3",
   "version": "3.5.2"
  }
 },
 "nbformat": 4,
 "nbformat_minor": 1
}
